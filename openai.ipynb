{
 "cells": [
  {
   "cell_type": "code",
   "execution_count": null,
   "metadata": {},
   "outputs": [],
   "source": [
    "import utils\n",
    "import re\n",
    "\n",
    "import                                  torch\n",
    "import                                  pyaudio\n",
    "import                                  wave\n",
    "import                                  numpy                                               as  np\n",
    "from    transformers            import  WhisperProcessor, WhisperForConditionalGeneration\n",
    "from    scipy.io                import  wavfile\n",
    "from    transformers            import  pipeline\n",
    "# Parameters for audio input\n",
    "FORMAT = pyaudio.paInt16   # Format of audio samples\n",
    "CHANNELS = 1               # Number of audio channels (1 for mono, 2 for stereo)\n",
    "RATE = 16000               # Sampling rate (samples per second)\n",
    "CHUNK = 1024               # Number of frames per buffer\n"
   ]
  },
  {
   "cell_type": "markdown",
   "metadata": {},
   "source": [
    "# 1.Audio Extact"
   ]
  },
  {
   "cell_type": "markdown",
   "metadata": {},
   "source": [
    "if tou want to use the bash command\n",
    "\n",
    "```ffmpeg -i .input_file.mp4 -vn -acodec pcm_s16le -ar 16000 -ac 1  ./output.wav```"
   ]
  },
  {
   "cell_type": "markdown",
   "metadata": {},
   "source": [
    "# 2.Audio-to-text"
   ]
  },
  {
   "cell_type": "markdown",
   "metadata": {},
   "source": [
    "models description :\n",
    "\n",
    "https://huggingface.co/openai/whisper-large-v2\n",
    "\n",
    "https://huggingface.co/jonatasgrosman/wav2vec2-large-xlsr-53-english\n",
    "\n"
   ]
  },
  {
   "cell_type": "code",
   "execution_count": null,
   "metadata": {},
   "outputs": [],
   "source": [
    "index = -1\n",
    "modelss = [\n",
    "            # \"openai/whisper-tiny\",   #39m params useless\n",
    "            \"openai/whisper-base\",   #74m params\n",
    "            \"openai/whisper-small\",  #244m params very well\n",
    "            \"openai/whisper-medium\", #769m params\n",
    "           ]\n",
    "# load model and processor\n",
    "processor = WhisperProcessor.from_pretrained(modelss[index])\n",
    "model = WhisperForConditionalGeneration.from_pretrained(modelss[index]).to('cuda')\n",
    "model.config.forced_decoder_ids = None\n"
   ]
  },
  {
   "cell_type": "code",
   "execution_count": null,
   "metadata": {},
   "outputs": [],
   "source": [
    "samplerat1, data1 = wavfile.read('output.wav')\n",
    "data1= data1/10"
   ]
  },
  {
   "cell_type": "markdown",
   "metadata": {},
   "source": [
    "When utilizing the output from FFMPEG after loading 'output.wav', it's important to note that the amplitude should be divided by 10. Additionally, the Speech-to-Text (STT) system has a memory of 27 seconds."
   ]
  },
  {
   "cell_type": "code",
   "execution_count": null,
   "metadata": {},
   "outputs": [],
   "source": [
    "model.config.forced_decoder_ids = processor.get_decoder_prompt_ids(language=\"english\", task=\"transcribe\")\n",
    "text = ''\n",
    "\n",
    "S_rate = 16000\n",
    "for index in range(len(data1)//(25*S_rate)):\n",
    "    input_features = processor(data1[(S_rate*index*25):(S_rate*(index+1)*25)], sampling_rate=S_rate, return_tensors=\"pt\").input_features.to('cuda')\n",
    "    predicted_ids = model.generate(input_features)\n",
    "    transcription = processor.batch_decode(predicted_ids, skip_special_tokens=True)\n",
    "    text += transcription[0] + ' '\n"
   ]
  },
  {
   "cell_type": "code",
   "execution_count": null,
   "metadata": {},
   "outputs": [],
   "source": [
    "text"
   ]
  },
  {
   "cell_type": "code",
   "execution_count": null,
   "metadata": {},
   "outputs": [],
   "source": [
    "total_lenght = len(text)\n",
    "' '.join(text.split(' ')[0:(total_lenght//3)]) "
   ]
  },
  {
   "cell_type": "code",
   "execution_count": null,
   "metadata": {},
   "outputs": [],
   "source": [
    "\n",
    "# Define the regular expression pattern\n",
    "paragraph_pattern = r'\\.'\n",
    "\n",
    "# Your long transcript\n",
    "transcript = text\n",
    "\n",
    "# Split the transcript into paragraphs\n",
    "paragraphs = re.split(paragraph_pattern, transcript)\n",
    "\n",
    "# Optionally, strip leading/trailing whitespace\n",
    "paragraphs = [p.strip() for p in paragraphs]\n",
    "\n",
    "\n",
    "# Using a list comprehension to remove empty strings\n",
    "filtered_list = [item for item in paragraphs if item.strip() != \"\"]\n",
    "\n",
    "print(filtered_list)\n"
   ]
  },
  {
   "cell_type": "markdown",
   "metadata": {},
   "source": [
    "# 3.Summurazation"
   ]
  },
  {
   "cell_type": "code",
   "execution_count": null,
   "metadata": {},
   "outputs": [],
   "source": [
    "summarizer = pipeline(\"summarization\", model=\"facebook/bart-large-cnn\")"
   ]
  },
  {
   "cell_type": "code",
   "execution_count": null,
   "metadata": {},
   "outputs": [],
   "source": [
    "print(summarizer(' '.join(filtered_list[0:(len(filtered_list)//3)]) , min_length=90, do_sample=True))\n"
   ]
  }
 ],
 "metadata": {
  "kernelspec": {
   "display_name": "torch3.9",
   "language": "python",
   "name": "python3"
  },
  "language_info": {
   "codemirror_mode": {
    "name": "ipython",
    "version": 3
   },
   "file_extension": ".py",
   "mimetype": "text/x-python",
   "name": "python",
   "nbconvert_exporter": "python",
   "pygments_lexer": "ipython3",
   "version": "3.9.17"
  },
  "orig_nbformat": 4
 },
 "nbformat": 4,
 "nbformat_minor": 2
}
